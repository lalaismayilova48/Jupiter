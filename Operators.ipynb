{
 "cells": [
  {
   "cell_type": "markdown",
   "id": "7f4a0fcb-0003-42fc-b5d7-9913a2b1d472",
   "metadata": {},
   "source": [
    "# First Program"
   ]
  },
  {
   "cell_type": "code",
   "execution_count": 28,
   "id": "06e5bff3-9e01-49b9-b416-be3faab6784d",
   "metadata": {},
   "outputs": [
    {
     "name": "stdout",
     "output_type": "stream",
     "text": [
      "I am 9 years old and my sister is 14 years old.\n"
     ]
    }
   ],
   "source": [
    "x=9\n",
    "y=14\n",
    "print(\"I am {0} years old and my sister is {1} years old.\".format(x,y))"
   ]
  },
  {
   "cell_type": "code",
   "execution_count": 30,
   "id": "0c0ed1c5-74aa-4076-90ba-bc0cb52818fc",
   "metadata": {},
   "outputs": [
    {
     "name": "stdout",
     "output_type": "stream",
     "text": [
      "I am  9  years old and my sister is  14 years old.\n"
     ]
    }
   ],
   "source": [
    "print(\"I am \",x,\" years old and my sister is \",y,\"years old.\".format(x,y))"
   ]
  },
  {
   "cell_type": "code",
   "execution_count": 2,
   "id": "a9d12836-e4db-41e4-8e16-6ff05a26da5a",
   "metadata": {},
   "outputs": [],
   "source": [
    "#if else "
   ]
  },
  {
   "cell_type": "code",
   "execution_count": 10,
   "id": "24ee7a71-2740-4ca2-a7e2-86b470057f6c",
   "metadata": {},
   "outputs": [
    {
     "name": "stdout",
     "output_type": "stream",
     "text": [
      "True\n"
     ]
    }
   ],
   "source": [
    "x=2\n",
    "if x>=1 :\n",
    "    print(\"True\")\n",
    "    "
   ]
  },
  {
   "cell_type": "code",
   "execution_count": 20,
   "id": "f34d00da-6fed-4d61-8612-09a401689753",
   "metadata": {},
   "outputs": [
    {
     "name": "stdout",
     "output_type": "stream",
     "text": [
      "7\n",
      "8\n",
      "9\n"
     ]
    }
   ],
   "source": [
    "for i in range(4,10):\n",
    "    if i>6 :\n",
    "        print(i)"
   ]
  },
  {
   "cell_type": "markdown",
   "id": "e8619822-6eaa-4836-bb21-b8c27fc76a1b",
   "metadata": {},
   "source": [
    "# Assignment Operators"
   ]
  },
  {
   "cell_type": "code",
   "execution_count": 27,
   "id": "07088597-3617-438a-bed7-7ae17db14b39",
   "metadata": {},
   "outputs": [],
   "source": [
    "# x=5\n",
    "# x=x+10\n",
    "# x=x/10\n",
    "# x=x//10\n",
    "# x=x%10\n",
    "# x=x**2"
   ]
  },
  {
   "cell_type": "code",
   "execution_count": 32,
   "id": "bf6bd4c7-5ad4-499a-9c1f-6f3b928f5bc2",
   "metadata": {},
   "outputs": [
    {
     "data": {
      "text/plain": [
       "5"
      ]
     },
     "execution_count": 32,
     "metadata": {},
     "output_type": "execute_result"
    }
   ],
   "source": [
    "x=5\n",
    "x"
   ]
  },
  {
   "cell_type": "code",
   "execution_count": 34,
   "id": "5b24c3e5-25b3-4b94-a2c9-d7987ae127ab",
   "metadata": {},
   "outputs": [
    {
     "data": {
      "text/plain": [
       "15"
      ]
     },
     "execution_count": 34,
     "metadata": {},
     "output_type": "execute_result"
    }
   ],
   "source": [
    "x=x+10\n",
    "x"
   ]
  },
  {
   "cell_type": "code",
   "execution_count": 36,
   "id": "fbdc1403-1bad-4139-9134-80e6d3c4e873",
   "metadata": {},
   "outputs": [
    {
     "data": {
      "text/plain": [
       "225"
      ]
     },
     "execution_count": 36,
     "metadata": {},
     "output_type": "execute_result"
    }
   ],
   "source": [
    "x=x**2\n",
    "x"
   ]
  },
  {
   "cell_type": "code",
   "execution_count": 40,
   "id": "28fd6a90-e96a-4b28-b5fd-9b2e1075c25b",
   "metadata": {},
   "outputs": [
    {
     "data": {
      "text/plain": [
       "645"
      ]
     },
     "execution_count": 40,
     "metadata": {},
     "output_type": "execute_result"
    }
   ],
   "source": [
    "x*=3\n",
    "x"
   ]
  },
  {
   "cell_type": "markdown",
   "id": "fa952fc8-bced-461d-a333-6085d8ffee73",
   "metadata": {},
   "source": [
    " ## Relational Operators"
   ]
  },
  {
   "cell_type": "code",
   "execution_count": 44,
   "id": "5d7c2351-ff98-4117-8686-31ce5a46e41e",
   "metadata": {},
   "outputs": [
    {
     "data": {
      "text/plain": [
       "False"
      ]
     },
     "execution_count": 44,
     "metadata": {},
     "output_type": "execute_result"
    }
   ],
   "source": [
    "x=3\n",
    "y=10\n",
    "x>y"
   ]
  },
  {
   "cell_type": "code",
   "execution_count": 46,
   "id": "28d9354a-38a0-4658-9a74-ad7e9d9516b3",
   "metadata": {},
   "outputs": [
    {
     "data": {
      "text/plain": [
       "True"
      ]
     },
     "execution_count": 46,
     "metadata": {},
     "output_type": "execute_result"
    }
   ],
   "source": [
    "x<=y"
   ]
  },
  {
   "cell_type": "code",
   "execution_count": 48,
   "id": "70dbe6a8-3b05-45bd-874c-23dbe3e5952a",
   "metadata": {},
   "outputs": [
    {
     "data": {
      "text/plain": [
       "True"
      ]
     },
     "execution_count": 48,
     "metadata": {},
     "output_type": "execute_result"
    }
   ],
   "source": [
    "x!=y"
   ]
  },
  {
   "cell_type": "code",
   "execution_count": 50,
   "id": "4ea08420-840b-461c-b4bf-e516a86f3eb9",
   "metadata": {},
   "outputs": [
    {
     "data": {
      "text/plain": [
       "False"
      ]
     },
     "execution_count": 50,
     "metadata": {},
     "output_type": "execute_result"
    }
   ],
   "source": [
    "x==y"
   ]
  },
  {
   "cell_type": "markdown",
   "id": "cd0ffd96-f941-41aa-acb2-edda51b07a4c",
   "metadata": {},
   "source": [
    "## Logical Operators"
   ]
  },
  {
   "cell_type": "code",
   "execution_count": 55,
   "id": "a5c18d69-6de9-4825-b10a-66f2d7518a65",
   "metadata": {},
   "outputs": [],
   "source": [
    "# & - AND (*)    1 - TRUE\n",
    "# \\ - OR (+)      0 - FALSE"
   ]
  },
  {
   "cell_type": "code",
   "execution_count": 57,
   "id": "a3ca2f1b-0570-4d5e-985b-bd92f3ffaf56",
   "metadata": {},
   "outputs": [
    {
     "data": {
      "text/plain": [
       "10"
      ]
     },
     "execution_count": 57,
     "metadata": {},
     "output_type": "execute_result"
    }
   ],
   "source": [
    "10"
   ]
  },
  {
   "cell_type": "code",
   "execution_count": 59,
   "id": "a8a43c78-3b40-4e6c-9d2f-1701489bc4de",
   "metadata": {},
   "outputs": [
    {
     "data": {
      "text/plain": [
       "True"
      ]
     },
     "execution_count": 59,
     "metadata": {},
     "output_type": "execute_result"
    }
   ],
   "source": [
    "bool(10)"
   ]
  },
  {
   "cell_type": "code",
   "execution_count": 61,
   "id": "7c1f688f-e5f3-452c-a4ea-46f0e55d74c7",
   "metadata": {},
   "outputs": [
    {
     "data": {
      "text/plain": [
       "False"
      ]
     },
     "execution_count": 61,
     "metadata": {},
     "output_type": "execute_result"
    }
   ],
   "source": [
    "bool(0)"
   ]
  },
  {
   "cell_type": "code",
   "execution_count": 63,
   "id": "a09bb4cb-2da6-4515-8658-a25d3aaaccd4",
   "metadata": {},
   "outputs": [
    {
     "data": {
      "text/plain": [
       "True"
      ]
     },
     "execution_count": 63,
     "metadata": {},
     "output_type": "execute_result"
    }
   ],
   "source": [
    "bool(0.005)"
   ]
  },
  {
   "cell_type": "code",
   "execution_count": 65,
   "id": "cac61bac-b0bb-438c-9707-1e3c53f20194",
   "metadata": {},
   "outputs": [
    {
     "data": {
      "text/plain": [
       "True"
      ]
     },
     "execution_count": 65,
     "metadata": {},
     "output_type": "execute_result"
    }
   ],
   "source": [
    "bool(-1)"
   ]
  },
  {
   "cell_type": "code",
   "execution_count": 69,
   "id": "23bab394-770c-4429-99d4-91fc9b44418e",
   "metadata": {},
   "outputs": [
    {
     "data": {
      "text/plain": [
       "True"
      ]
     },
     "execution_count": 69,
     "metadata": {},
     "output_type": "execute_result"
    }
   ],
   "source": [
    "True & True"
   ]
  },
  {
   "cell_type": "code",
   "execution_count": 71,
   "id": "54129521-afce-41e8-96ed-07729318a92b",
   "metadata": {},
   "outputs": [
    {
     "data": {
      "text/plain": [
       "False"
      ]
     },
     "execution_count": 71,
     "metadata": {},
     "output_type": "execute_result"
    }
   ],
   "source": [
    "True & False"
   ]
  },
  {
   "cell_type": "code",
   "execution_count": 73,
   "id": "214cc317-f6bd-4681-9efb-1453b27fff30",
   "metadata": {},
   "outputs": [
    {
     "data": {
      "text/plain": [
       "True"
      ]
     },
     "execution_count": 73,
     "metadata": {},
     "output_type": "execute_result"
    }
   ],
   "source": [
    "True | False"
   ]
  },
  {
   "cell_type": "code",
   "execution_count": 75,
   "id": "071621a8-1cf7-46ee-9f46-b4b60a4980ff",
   "metadata": {},
   "outputs": [
    {
     "data": {
      "text/plain": [
       "False"
      ]
     },
     "execution_count": 75,
     "metadata": {},
     "output_type": "execute_result"
    }
   ],
   "source": [
    "False & False"
   ]
  },
  {
   "cell_type": "code",
   "execution_count": 77,
   "id": "480df169-7a21-4df7-9f2a-d8ce93c2eb62",
   "metadata": {},
   "outputs": [
    {
     "data": {
      "text/plain": [
       "False"
      ]
     },
     "execution_count": 77,
     "metadata": {},
     "output_type": "execute_result"
    }
   ],
   "source": [
    "x=10\n",
    "x<7"
   ]
  },
  {
   "cell_type": "code",
   "execution_count": 79,
   "id": "ff88913f-f00f-40e6-b885-91db7e3964de",
   "metadata": {},
   "outputs": [
    {
     "data": {
      "text/plain": [
       "False"
      ]
     },
     "execution_count": 79,
     "metadata": {},
     "output_type": "execute_result"
    }
   ],
   "source": [
    "(x>5) & (x<9)"
   ]
  },
  {
   "cell_type": "code",
   "execution_count": 81,
   "id": "eff43c7f-6e1a-43da-8e51-8c620dce1863",
   "metadata": {},
   "outputs": [
    {
     "data": {
      "text/plain": [
       "True"
      ]
     },
     "execution_count": 81,
     "metadata": {},
     "output_type": "execute_result"
    }
   ],
   "source": [
    "(x>5) | (x<9)"
   ]
  },
  {
   "cell_type": "markdown",
   "id": "80076bd2-ba98-455e-b69f-696e483c6a7b",
   "metadata": {},
   "source": [
    "## If and Else "
   ]
  },
  {
   "cell_type": "code",
   "execution_count": null,
   "id": "6dcf6897-352c-4cfb-85a5-2264b479ff63",
   "metadata": {},
   "outputs": [],
   "source": [
    "  "
   ]
  }
 ],
 "metadata": {
  "kernelspec": {
   "display_name": "Python 3 (ipykernel)",
   "language": "python",
   "name": "python3"
  },
  "language_info": {
   "codemirror_mode": {
    "name": "ipython",
    "version": 3
   },
   "file_extension": ".py",
   "mimetype": "text/x-python",
   "name": "python",
   "nbconvert_exporter": "python",
   "pygments_lexer": "ipython3",
   "version": "3.12.4"
  }
 },
 "nbformat": 4,
 "nbformat_minor": 5
}
