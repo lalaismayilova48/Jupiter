{
 "cells": [
  {
   "cell_type": "markdown",
   "id": "9b452cd8-28e3-406e-8b19-5c118c6ef483",
   "metadata": {},
   "source": [
    "print(\"HELLO\")"
   ]
  },
  {
   "cell_type": "code",
   "execution_count": null,
   "id": "69c70feb-37af-4d0b-92e5-730a4b833d22",
   "metadata": {},
   "outputs": [],
   "source": []
  },
  {
   "cell_type": "markdown",
   "id": "77132d38-506e-4e89-b7a1-0a5a3d325801",
   "metadata": {},
   "source": [
    " ## heading\n",
    " \n",
    " "
   ]
  },
  {
   "cell_type": "markdown",
   "id": "190d2a26-de6a-4d4d-a7fb-0d60ccbbd794",
   "metadata": {},
   "source": [
    "#### heading"
   ]
  },
  {
   "cell_type": "markdown",
   "id": "9d0e2239-1e8b-4954-814a-8450d87d728e",
   "metadata": {},
   "source": [
    "##### heading"
   ]
  },
  {
   "cell_type": "markdown",
   "id": "ee71ee4f-e92d-4353-93b8-1bdd66cffdb7",
   "metadata": {},
   "source": [
    " **text**"
   ]
  },
  {
   "cell_type": "markdown",
   "id": "80f76583-a7a6-4672-b7e0-2ce6ac470115",
   "metadata": {},
   "source": [
    "*text*"
   ]
  },
  {
   "cell_type": "markdown",
   "id": "a8eb0efe-818f-4922-94ea-2686ddc8f07b",
   "metadata": {},
   "source": [
    "[text](https://chatgpt.com/c/f9d42cf6-4aa5-4b1e-8407-7d88fec56638)"
   ]
  },
  {
   "cell_type": "code",
   "execution_count": null,
   "id": "477ae769-f5f7-4386-ac23-3e3f8d32c8e5",
   "metadata": {},
   "outputs": [],
   "source": [
    " "
   ]
  },
  {
   "cell_type": "code",
   "execution_count": null,
   "id": "2824cc60-d845-4de5-aa9d-09178ebaa597",
   "metadata": {},
   "outputs": [],
   "source": []
  },
  {
   "cell_type": "code",
   "execution_count": null,
   "id": "2978dabf-ed01-493f-967a-0f3753a521e0",
   "metadata": {},
   "outputs": [],
   "source": []
  },
  {
   "cell_type": "code",
   "execution_count": null,
   "id": "1e36edcb-74ba-48eb-913a-95fefdd4563a",
   "metadata": {},
   "outputs": [],
   "source": []
  },
  {
   "cell_type": "code",
   "execution_count": null,
   "id": "e9e52dc1-2705-4c45-b6a4-4108cd493d47",
   "metadata": {},
   "outputs": [],
   "source": []
  },
  {
   "cell_type": "code",
   "execution_count": null,
   "id": "f78bef66-a2c3-4853-8e3e-e00982ed778b",
   "metadata": {},
   "outputs": [],
   "source": []
  },
  {
   "cell_type": "code",
   "execution_count": null,
   "id": "ffd90dbb-1a01-4ab3-9526-999394d5b154",
   "metadata": {},
   "outputs": [],
   "source": []
  },
  {
   "cell_type": "code",
   "execution_count": null,
   "id": "6bac717e-424e-4ac4-ab1f-ae8249230e10",
   "metadata": {},
   "outputs": [],
   "source": []
  },
  {
   "cell_type": "code",
   "execution_count": null,
   "id": "216594be-7da9-48c5-8ac8-6707f7f57178",
   "metadata": {},
   "outputs": [],
   "source": []
  },
  {
   "cell_type": "code",
   "execution_count": null,
   "id": "792b6263-be93-48bc-a22b-095e61d382a3",
   "metadata": {},
   "outputs": [],
   "source": []
  },
  {
   "cell_type": "code",
   "execution_count": null,
   "id": "54eeca79-c9b3-4490-80e7-ba957ded3426",
   "metadata": {},
   "outputs": [],
   "source": []
  },
  {
   "cell_type": "code",
   "execution_count": null,
   "id": "0dcb025e-e22f-498a-a235-648037b1b615",
   "metadata": {},
   "outputs": [],
   "source": []
  },
  {
   "cell_type": "code",
   "execution_count": null,
   "id": "76da6600-bb81-4820-a04f-c97c1f443ede",
   "metadata": {},
   "outputs": [],
   "source": []
  },
  {
   "cell_type": "code",
   "execution_count": null,
   "id": "662bf23a-01e4-431f-9036-f6e8e540a9c2",
   "metadata": {},
   "outputs": [],
   "source": []
  },
  {
   "cell_type": "code",
   "execution_count": null,
   "id": "b3f24693-20b2-41c2-b68b-99081a118894",
   "metadata": {},
   "outputs": [],
   "source": []
  },
  {
   "cell_type": "raw",
   "id": "941967c4-9405-4865-9ca5-1026b9385502",
   "metadata": {},
   "source": [
    "#oktpo34k\n"
   ]
  }
 ],
 "metadata": {
  "kernelspec": {
   "display_name": "Python 3 (ipykernel)",
   "language": "python",
   "name": "python3"
  },
  "language_info": {
   "codemirror_mode": {
    "name": "ipython",
    "version": 3
   },
   "file_extension": ".py",
   "mimetype": "text/x-python",
   "name": "python",
   "nbconvert_exporter": "python",
   "pygments_lexer": "ipython3",
   "version": "3.12.4"
  }
 },
 "nbformat": 4,
 "nbformat_minor": 5
}
