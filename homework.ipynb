{
 "cells": [
  {
   "cell_type": "code",
   "execution_count": 4,
   "id": "88a05831-1d82-4bb0-bc9e-1bf224e49ea1",
   "metadata": {},
   "outputs": [
    {
     "name": "stdout",
     "output_type": "stream",
     "text": [
      "Lala\n"
     ]
    }
   ],
   "source": [
    "first_name=\"Lala\"\n",
    "print(first_name)"
   ]
  },
  {
   "cell_type": "code",
   "execution_count": 6,
   "id": "5b3c8ce7-ac00-4e2e-a684-57ea583be6f8",
   "metadata": {},
   "outputs": [
    {
     "name": "stdout",
     "output_type": "stream",
     "text": [
      "Lala\n"
     ]
    },
    {
     "data": {
      "text/plain": [
       "NoneType"
      ]
     },
     "execution_count": 6,
     "metadata": {},
     "output_type": "execute_result"
    }
   ],
   "source": [
    "type(print(first_name))"
   ]
  },
  {
   "cell_type": "code",
   "execution_count": 11,
   "id": "c5e46a4f-69bd-48d6-a957-dd2494d4d8e6",
   "metadata": {},
   "outputs": [
    {
     "data": {
      "text/plain": [
       "28342"
      ]
     },
     "execution_count": 11,
     "metadata": {},
     "output_type": "execute_result"
    }
   ],
   "source": [
    "13+int(\"28329\")"
   ]
  },
  {
   "cell_type": "markdown",
   "id": "a199e9e1-5224-46ef-bdb4-46f0ab1817ee",
   "metadata": {},
   "source": [
    "#Strings"
   ]
  },
  {
   "cell_type": "code",
   "execution_count": 15,
   "id": "a75868dc-fac6-40c5-9303-aedb64b5f07d",
   "metadata": {},
   "outputs": [
    {
     "data": {
      "text/plain": [
       "'HELLO LALA'"
      ]
     },
     "execution_count": 15,
     "metadata": {},
     "output_type": "execute_result"
    }
   ],
   "source": [
    "name=\"Hello Lala\"\n",
    "name.upper()"
   ]
  },
  {
   "cell_type": "code",
   "execution_count": 17,
   "id": "7a0cf466-ef3b-40d5-a7fb-6e11add41b5e",
   "metadata": {},
   "outputs": [
    {
     "data": {
      "text/plain": [
       "'alaL olleH'"
      ]
     },
     "execution_count": 17,
     "metadata": {},
     "output_type": "execute_result"
    }
   ],
   "source": [
    "name[::-1]"
   ]
  },
  {
   "cell_type": "code",
   "execution_count": 20,
   "id": "45e9ec0c-4fff-4a32-9704-0888d963080e",
   "metadata": {},
   "outputs": [
    {
     "data": {
      "text/plain": [
       "'Lala'"
      ]
     },
     "execution_count": 20,
     "metadata": {},
     "output_type": "execute_result"
    }
   ],
   "source": [
    "name[6::]"
   ]
  },
  {
   "cell_type": "code",
   "execution_count": 24,
   "id": "d55d70b0-b4ae-4faa-acd6-cc3dc330b3fd",
   "metadata": {},
   "outputs": [
    {
     "data": {
      "text/plain": [
       "' '"
      ]
     },
     "execution_count": 24,
     "metadata": {},
     "output_type": "execute_result"
    }
   ],
   "source": [
    "name[5]"
   ]
  },
  {
   "cell_type": "code",
   "execution_count": 27,
   "id": "13961bbd-577c-40eb-8338-f97fe97e5039",
   "metadata": {},
   "outputs": [],
   "source": [
    "#n nsxkjnasnjnxsa"
   ]
  },
  {
   "cell_type": "code",
   "execution_count": 35,
   "id": "32bcb819-d362-4da4-8550-b767cb50697f",
   "metadata": {},
   "outputs": [
    {
     "data": {
      "text/plain": [
       "['Hello world.I am here']"
      ]
     },
     "execution_count": 35,
     "metadata": {},
     "output_type": "execute_result"
    }
   ],
   "source": [
    "name=\"Hello world.I am here\"\n",
    "name.split(' .',maxsplit=1)"
   ]
  },
  {
   "cell_type": "code",
   "execution_count": 39,
   "id": "3f50b3e9-fb5e-4aae-b157-4315f6c19183",
   "metadata": {},
   "outputs": [
    {
     "data": {
      "text/plain": [
       "['H', 'llo world.I am h', 'r', '']"
      ]
     },
     "execution_count": 39,
     "metadata": {},
     "output_type": "execute_result"
    }
   ],
   "source": [
    "name.split('e')"
   ]
  },
  {
   "cell_type": "code",
   "execution_count": 41,
   "id": "4240ca40-f18f-4779-946b-08c38f0e62b3",
   "metadata": {},
   "outputs": [
    {
     "data": {
      "text/plain": [
       "3"
      ]
     },
     "execution_count": 41,
     "metadata": {},
     "output_type": "execute_result"
    }
   ],
   "source": [
    "name.count('l')"
   ]
  },
  {
   "cell_type": "code",
   "execution_count": 43,
   "id": "2f757d11-c56f-48a4-a120-a679c1834440",
   "metadata": {},
   "outputs": [
    {
     "data": {
      "text/plain": [
       "21"
      ]
     },
     "execution_count": 43,
     "metadata": {},
     "output_type": "execute_result"
    }
   ],
   "source": [
    "len(name)"
   ]
  },
  {
   "cell_type": "code",
   "execution_count": 47,
   "id": "b8800608-0d5d-41b2-9563-3ef11c48c459",
   "metadata": {},
   "outputs": [
    {
     "data": {
      "text/plain": [
       "'r'"
      ]
     },
     "execution_count": 47,
     "metadata": {},
     "output_type": "execute_result"
    }
   ],
   "source": [
    "name[-2]"
   ]
  },
  {
   "cell_type": "code",
   "execution_count": 49,
   "id": "d3c438fc-5c3b-43eb-9ef0-c20b424bfb6e",
   "metadata": {},
   "outputs": [
    {
     "data": {
      "text/plain": [
       "0"
      ]
     },
     "execution_count": 49,
     "metadata": {},
     "output_type": "execute_result"
    }
   ],
   "source": [
    "name.count('Hello',0,3)"
   ]
  },
  {
   "cell_type": "code",
   "execution_count": 53,
   "id": "076d8daa-70ef-4bbc-877e-5a53ab8f968d",
   "metadata": {},
   "outputs": [
    {
     "data": {
      "text/plain": [
       "17"
      ]
     },
     "execution_count": 53,
     "metadata": {},
     "output_type": "execute_result"
    }
   ],
   "source": [
    "name.find('h')"
   ]
  },
  {
   "cell_type": "code",
   "execution_count": 57,
   "id": "4ebb85b6-dc70-471c-8b0b-8e8cd518c680",
   "metadata": {},
   "outputs": [
    {
     "data": {
      "text/plain": [
       "0"
      ]
     },
     "execution_count": 57,
     "metadata": {},
     "output_type": "execute_result"
    }
   ],
   "source": [
    "name.find('Hell',0,4)"
   ]
  },
  {
   "cell_type": "code",
   "execution_count": 59,
   "id": "344ca985-b21c-4fd6-bc19-435cdcc44dfc",
   "metadata": {},
   "outputs": [
    {
     "data": {
      "text/plain": [
       "4"
      ]
     },
     "execution_count": 59,
     "metadata": {},
     "output_type": "execute_result"
    }
   ],
   "source": [
    "name.index('o')"
   ]
  },
  {
   "cell_type": "code",
   "execution_count": 65,
   "id": "109c0185-4031-4f31-a0ec-cb27e5b105f8",
   "metadata": {},
   "outputs": [
    {
     "name": "stdout",
     "output_type": "stream",
     "text": [
      "Na\n"
     ]
    }
   ],
   "source": [
    "sentence='Hello, I am Name Surname and I am xx years old'\n",
    "print(sentence.split(' ')[3:5][0][:2])"
   ]
  },
  {
   "cell_type": "code",
   "execution_count": 71,
   "id": "8e2adb37-58e3-4f14-8d54-c115de987fe5",
   "metadata": {},
   "outputs": [
    {
     "data": {
      "text/plain": [
       "'ereh ma I.dlrow olleH'"
      ]
     },
     "execution_count": 71,
     "metadata": {},
     "output_type": "execute_result"
    }
   ],
   "source": [
    "name[::-1]"
   ]
  },
  {
   "cell_type": "code",
   "execution_count": 73,
   "id": "dc4da3ab-53b3-47e1-bb28-10922a7727b9",
   "metadata": {},
   "outputs": [
    {
     "data": {
      "text/plain": [
       "'my'"
      ]
     },
     "execution_count": 73,
     "metadata": {},
     "output_type": "execute_result"
    }
   ],
   "source": [
    "name=\"my name\"\n",
    "name[:2]"
   ]
  },
  {
   "cell_type": "code",
   "execution_count": 75,
   "id": "654d5651-cd00-462e-9bc7-3df59f5a2897",
   "metadata": {},
   "outputs": [
    {
     "data": {
      "text/plain": [
       "' name'"
      ]
     },
     "execution_count": 75,
     "metadata": {},
     "output_type": "execute_result"
    }
   ],
   "source": [
    "name[2::]"
   ]
  },
  {
   "cell_type": "code",
   "execution_count": 77,
   "id": "55859a58-f186-4a9c-946e-262b12b7ec79",
   "metadata": {},
   "outputs": [
    {
     "data": {
      "text/plain": [
       "['my', 'name']"
      ]
     },
     "execution_count": 77,
     "metadata": {},
     "output_type": "execute_result"
    }
   ],
   "source": [
    "name.split(' ')"
   ]
  },
  {
   "cell_type": "code",
   "execution_count": 81,
   "id": "b7e57245-350d-4ea4-8e63-0cfaf0b31b4b",
   "metadata": {},
   "outputs": [
    {
     "data": {
      "text/plain": [
       "'am'"
      ]
     },
     "execution_count": 81,
     "metadata": {},
     "output_type": "execute_result"
    }
   ],
   "source": [
    "name[-3:-1]"
   ]
  },
  {
   "cell_type": "code",
   "execution_count": 83,
   "id": "24ef8b05-a27c-4fe5-9ad5-244e8eeb40d0",
   "metadata": {},
   "outputs": [
    {
     "data": {
      "text/plain": [
       "2"
      ]
     },
     "execution_count": 83,
     "metadata": {},
     "output_type": "execute_result"
    }
   ],
   "source": [
    "name.count('m')"
   ]
  },
  {
   "cell_type": "code",
   "execution_count": 87,
   "id": "1cf0eb2a-39cc-4aa3-a43b-c6f653b78b6d",
   "metadata": {},
   "outputs": [
    {
     "data": {
      "text/plain": [
       "'Ismayilova'"
      ]
     },
     "execution_count": 87,
     "metadata": {},
     "output_type": "execute_result"
    }
   ],
   "source": [
    "first_name=\"Lala\"\n",
    "last_name=\"ismayilova\"\n",
    "last_name.capitalize()"
   ]
  },
  {
   "cell_type": "code",
   "execution_count": 90,
   "id": "63e4af3d-bc88-4c71-8ddf-f1f8c8d33612",
   "metadata": {},
   "outputs": [
    {
     "data": {
      "text/plain": [
       "['Lala', 'Ismayilova']"
      ]
     },
     "execution_count": 90,
     "metadata": {},
     "output_type": "execute_result"
    }
   ],
   "source": [
    "full_name=\"Lala Ismayilova\"\n",
    "full_name.split(' ')\n"
   ]
  },
  {
   "cell_type": "code",
   "execution_count": 92,
   "id": "944419f9-cdf3-457e-bde1-1a9a49bae9f7",
   "metadata": {},
   "outputs": [
    {
     "data": {
      "text/plain": [
       "4"
      ]
     },
     "execution_count": 92,
     "metadata": {},
     "output_type": "execute_result"
    }
   ],
   "source": [
    "full_name.count('a')"
   ]
  },
  {
   "cell_type": "code",
   "execution_count": 94,
   "id": "0544500c-2fd6-46ee-acf8-3131b7f5f1e3",
   "metadata": {},
   "outputs": [
    {
     "data": {
      "text/plain": [
       "'avoliyamsi'"
      ]
     },
     "execution_count": 94,
     "metadata": {},
     "output_type": "execute_result"
    }
   ],
   "source": [
    "last_name[::-1]"
   ]
  },
  {
   "cell_type": "code",
   "execution_count": null,
   "id": "bf38b3ae-aaa9-4b85-aa17-c3eeffb4c7f3",
   "metadata": {},
   "outputs": [],
   "source": []
  },
  {
   "cell_type": "code",
   "execution_count": null,
   "id": "a2e24901-92e4-4003-9215-95ebe733469a",
   "metadata": {},
   "outputs": [],
   "source": []
  }
 ],
 "metadata": {
  "kernelspec": {
   "display_name": "Python 3 (ipykernel)",
   "language": "python",
   "name": "python3"
  },
  "language_info": {
   "codemirror_mode": {
    "name": "ipython",
    "version": 3
   },
   "file_extension": ".py",
   "mimetype": "text/x-python",
   "name": "python",
   "nbconvert_exporter": "python",
   "pygments_lexer": "ipython3",
   "version": "3.12.4"
  }
 },
 "nbformat": 4,
 "nbformat_minor": 5
}
